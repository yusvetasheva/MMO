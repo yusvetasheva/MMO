{
  "cells": [
    {
      "cell_type": "markdown",
      "metadata": {
        "id": "qjI2OWgJPRWI"
      },
      "source": [
        "# Рубежный контроль №1\n",
        "## Выполнила: Светашева Юлия, студент ИУ5-23М\n",
        "Вариант 13, согласно ему номера задач: 13 и 33 для первой и второй соответственно.\n",
        "Для моей группы доп. требование: для произвольной колонки данных построить график \"Ящик с усами (boxplot)\"."
      ],
      "id": "qjI2OWgJPRWI"
    },
    {
      "cell_type": "markdown",
      "source": [
        "13  - Для набора данных проведите нормализацию для одного (произвольного) числового признака с использованием функции \"обратная зависимость - 1 / X\"."
      ],
      "metadata": {
        "id": "viabcXm5QNJz"
      },
      "id": "viabcXm5QNJz"
    },
    {
      "cell_type": "markdown",
      "source": [
        "33 - Для набора данных проведите процедуру отбора признаков (feature selection). Используйте метод обертывания (wrapper method), алгоритм полного перебора (exhaustive feature selection)."
      ],
      "metadata": {
        "id": "zQxLcNzYQTwk"
      },
      "id": "zQxLcNzYQTwk"
    },
    {
      "cell_type": "markdown",
      "metadata": {
        "id": "m3V4zJfwPRWL"
      },
      "source": [
        "## Подготовка данных"
      ],
      "id": "m3V4zJfwPRWL"
    },
    {
      "cell_type": "code",
      "execution_count": 55,
      "metadata": {
        "trusted": true,
        "colab": {
          "base_uri": "https://localhost:8080/",
          "height": 206
        },
        "id": "Uo3d5LD0PRWR",
        "outputId": "bfe3e935-f68d-4156-c9a2-c70270907568"
      },
      "outputs": [
        {
          "output_type": "execute_result",
          "data": {
            "text/plain": [
              "   Avg. Area Income  Avg. Area House Age  Avg. Area Number of Rooms  \\\n",
              "0       79545.45857             5.682861                   7.009188   \n",
              "1       79248.64245             6.002900                   6.730821   \n",
              "2       61287.06718             5.865890                   8.512727   \n",
              "3       63345.24005             7.188236                   5.586729   \n",
              "4       59982.19723             5.040555                   7.839388   \n",
              "\n",
              "   Avg. Area Number of Bedrooms  Area Population         Price  \n",
              "0                          4.09      23086.80050  1.059034e+06  \n",
              "1                          3.09      40173.07217  1.505891e+06  \n",
              "2                          5.13      36882.15940  1.058988e+06  \n",
              "3                          3.26      34310.24283  1.260617e+06  \n",
              "4                          4.23      26354.10947  6.309435e+05  "
            ],
            "text/html": [
              "\n",
              "  <div id=\"df-37ba3143-8761-48ac-a419-5bebea60f68d\" class=\"colab-df-container\">\n",
              "    <div>\n",
              "<style scoped>\n",
              "    .dataframe tbody tr th:only-of-type {\n",
              "        vertical-align: middle;\n",
              "    }\n",
              "\n",
              "    .dataframe tbody tr th {\n",
              "        vertical-align: top;\n",
              "    }\n",
              "\n",
              "    .dataframe thead th {\n",
              "        text-align: right;\n",
              "    }\n",
              "</style>\n",
              "<table border=\"1\" class=\"dataframe\">\n",
              "  <thead>\n",
              "    <tr style=\"text-align: right;\">\n",
              "      <th></th>\n",
              "      <th>Avg. Area Income</th>\n",
              "      <th>Avg. Area House Age</th>\n",
              "      <th>Avg. Area Number of Rooms</th>\n",
              "      <th>Avg. Area Number of Bedrooms</th>\n",
              "      <th>Area Population</th>\n",
              "      <th>Price</th>\n",
              "    </tr>\n",
              "  </thead>\n",
              "  <tbody>\n",
              "    <tr>\n",
              "      <th>0</th>\n",
              "      <td>79545.45857</td>\n",
              "      <td>5.682861</td>\n",
              "      <td>7.009188</td>\n",
              "      <td>4.09</td>\n",
              "      <td>23086.80050</td>\n",
              "      <td>1.059034e+06</td>\n",
              "    </tr>\n",
              "    <tr>\n",
              "      <th>1</th>\n",
              "      <td>79248.64245</td>\n",
              "      <td>6.002900</td>\n",
              "      <td>6.730821</td>\n",
              "      <td>3.09</td>\n",
              "      <td>40173.07217</td>\n",
              "      <td>1.505891e+06</td>\n",
              "    </tr>\n",
              "    <tr>\n",
              "      <th>2</th>\n",
              "      <td>61287.06718</td>\n",
              "      <td>5.865890</td>\n",
              "      <td>8.512727</td>\n",
              "      <td>5.13</td>\n",
              "      <td>36882.15940</td>\n",
              "      <td>1.058988e+06</td>\n",
              "    </tr>\n",
              "    <tr>\n",
              "      <th>3</th>\n",
              "      <td>63345.24005</td>\n",
              "      <td>7.188236</td>\n",
              "      <td>5.586729</td>\n",
              "      <td>3.26</td>\n",
              "      <td>34310.24283</td>\n",
              "      <td>1.260617e+06</td>\n",
              "    </tr>\n",
              "    <tr>\n",
              "      <th>4</th>\n",
              "      <td>59982.19723</td>\n",
              "      <td>5.040555</td>\n",
              "      <td>7.839388</td>\n",
              "      <td>4.23</td>\n",
              "      <td>26354.10947</td>\n",
              "      <td>6.309435e+05</td>\n",
              "    </tr>\n",
              "  </tbody>\n",
              "</table>\n",
              "</div>\n",
              "    <div class=\"colab-df-buttons\">\n",
              "\n",
              "  <div class=\"colab-df-container\">\n",
              "    <button class=\"colab-df-convert\" onclick=\"convertToInteractive('df-37ba3143-8761-48ac-a419-5bebea60f68d')\"\n",
              "            title=\"Convert this dataframe to an interactive table.\"\n",
              "            style=\"display:none;\">\n",
              "\n",
              "  <svg xmlns=\"http://www.w3.org/2000/svg\" height=\"24px\" viewBox=\"0 -960 960 960\">\n",
              "    <path d=\"M120-120v-720h720v720H120Zm60-500h600v-160H180v160Zm220 220h160v-160H400v160Zm0 220h160v-160H400v160ZM180-400h160v-160H180v160Zm440 0h160v-160H620v160ZM180-180h160v-160H180v160Zm440 0h160v-160H620v160Z\"/>\n",
              "  </svg>\n",
              "    </button>\n",
              "\n",
              "  <style>\n",
              "    .colab-df-container {\n",
              "      display:flex;\n",
              "      gap: 12px;\n",
              "    }\n",
              "\n",
              "    .colab-df-convert {\n",
              "      background-color: #E8F0FE;\n",
              "      border: none;\n",
              "      border-radius: 50%;\n",
              "      cursor: pointer;\n",
              "      display: none;\n",
              "      fill: #1967D2;\n",
              "      height: 32px;\n",
              "      padding: 0 0 0 0;\n",
              "      width: 32px;\n",
              "    }\n",
              "\n",
              "    .colab-df-convert:hover {\n",
              "      background-color: #E2EBFA;\n",
              "      box-shadow: 0px 1px 2px rgba(60, 64, 67, 0.3), 0px 1px 3px 1px rgba(60, 64, 67, 0.15);\n",
              "      fill: #174EA6;\n",
              "    }\n",
              "\n",
              "    .colab-df-buttons div {\n",
              "      margin-bottom: 4px;\n",
              "    }\n",
              "\n",
              "    [theme=dark] .colab-df-convert {\n",
              "      background-color: #3B4455;\n",
              "      fill: #D2E3FC;\n",
              "    }\n",
              "\n",
              "    [theme=dark] .colab-df-convert:hover {\n",
              "      background-color: #434B5C;\n",
              "      box-shadow: 0px 1px 3px 1px rgba(0, 0, 0, 0.15);\n",
              "      filter: drop-shadow(0px 1px 2px rgba(0, 0, 0, 0.3));\n",
              "      fill: #FFFFFF;\n",
              "    }\n",
              "  </style>\n",
              "\n",
              "    <script>\n",
              "      const buttonEl =\n",
              "        document.querySelector('#df-37ba3143-8761-48ac-a419-5bebea60f68d button.colab-df-convert');\n",
              "      buttonEl.style.display =\n",
              "        google.colab.kernel.accessAllowed ? 'block' : 'none';\n",
              "\n",
              "      async function convertToInteractive(key) {\n",
              "        const element = document.querySelector('#df-37ba3143-8761-48ac-a419-5bebea60f68d');\n",
              "        const dataTable =\n",
              "          await google.colab.kernel.invokeFunction('convertToInteractive',\n",
              "                                                    [key], {});\n",
              "        if (!dataTable) return;\n",
              "\n",
              "        const docLinkHtml = 'Like what you see? Visit the ' +\n",
              "          '<a target=\"_blank\" href=https://colab.research.google.com/notebooks/data_table.ipynb>data table notebook</a>'\n",
              "          + ' to learn more about interactive tables.';\n",
              "        element.innerHTML = '';\n",
              "        dataTable['output_type'] = 'display_data';\n",
              "        await google.colab.output.renderOutput(dataTable, element);\n",
              "        const docLink = document.createElement('div');\n",
              "        docLink.innerHTML = docLinkHtml;\n",
              "        element.appendChild(docLink);\n",
              "      }\n",
              "    </script>\n",
              "  </div>\n",
              "\n",
              "\n",
              "<div id=\"df-5f978e20-dd55-4a1d-b021-fefad9fe1eda\">\n",
              "  <button class=\"colab-df-quickchart\" onclick=\"quickchart('df-5f978e20-dd55-4a1d-b021-fefad9fe1eda')\"\n",
              "            title=\"Suggest charts\"\n",
              "            style=\"display:none;\">\n",
              "\n",
              "<svg xmlns=\"http://www.w3.org/2000/svg\" height=\"24px\"viewBox=\"0 0 24 24\"\n",
              "     width=\"24px\">\n",
              "    <g>\n",
              "        <path d=\"M19 3H5c-1.1 0-2 .9-2 2v14c0 1.1.9 2 2 2h14c1.1 0 2-.9 2-2V5c0-1.1-.9-2-2-2zM9 17H7v-7h2v7zm4 0h-2V7h2v10zm4 0h-2v-4h2v4z\"/>\n",
              "    </g>\n",
              "</svg>\n",
              "  </button>\n",
              "\n",
              "<style>\n",
              "  .colab-df-quickchart {\n",
              "      --bg-color: #E8F0FE;\n",
              "      --fill-color: #1967D2;\n",
              "      --hover-bg-color: #E2EBFA;\n",
              "      --hover-fill-color: #174EA6;\n",
              "      --disabled-fill-color: #AAA;\n",
              "      --disabled-bg-color: #DDD;\n",
              "  }\n",
              "\n",
              "  [theme=dark] .colab-df-quickchart {\n",
              "      --bg-color: #3B4455;\n",
              "      --fill-color: #D2E3FC;\n",
              "      --hover-bg-color: #434B5C;\n",
              "      --hover-fill-color: #FFFFFF;\n",
              "      --disabled-bg-color: #3B4455;\n",
              "      --disabled-fill-color: #666;\n",
              "  }\n",
              "\n",
              "  .colab-df-quickchart {\n",
              "    background-color: var(--bg-color);\n",
              "    border: none;\n",
              "    border-radius: 50%;\n",
              "    cursor: pointer;\n",
              "    display: none;\n",
              "    fill: var(--fill-color);\n",
              "    height: 32px;\n",
              "    padding: 0;\n",
              "    width: 32px;\n",
              "  }\n",
              "\n",
              "  .colab-df-quickchart:hover {\n",
              "    background-color: var(--hover-bg-color);\n",
              "    box-shadow: 0 1px 2px rgba(60, 64, 67, 0.3), 0 1px 3px 1px rgba(60, 64, 67, 0.15);\n",
              "    fill: var(--button-hover-fill-color);\n",
              "  }\n",
              "\n",
              "  .colab-df-quickchart-complete:disabled,\n",
              "  .colab-df-quickchart-complete:disabled:hover {\n",
              "    background-color: var(--disabled-bg-color);\n",
              "    fill: var(--disabled-fill-color);\n",
              "    box-shadow: none;\n",
              "  }\n",
              "\n",
              "  .colab-df-spinner {\n",
              "    border: 2px solid var(--fill-color);\n",
              "    border-color: transparent;\n",
              "    border-bottom-color: var(--fill-color);\n",
              "    animation:\n",
              "      spin 1s steps(1) infinite;\n",
              "  }\n",
              "\n",
              "  @keyframes spin {\n",
              "    0% {\n",
              "      border-color: transparent;\n",
              "      border-bottom-color: var(--fill-color);\n",
              "      border-left-color: var(--fill-color);\n",
              "    }\n",
              "    20% {\n",
              "      border-color: transparent;\n",
              "      border-left-color: var(--fill-color);\n",
              "      border-top-color: var(--fill-color);\n",
              "    }\n",
              "    30% {\n",
              "      border-color: transparent;\n",
              "      border-left-color: var(--fill-color);\n",
              "      border-top-color: var(--fill-color);\n",
              "      border-right-color: var(--fill-color);\n",
              "    }\n",
              "    40% {\n",
              "      border-color: transparent;\n",
              "      border-right-color: var(--fill-color);\n",
              "      border-top-color: var(--fill-color);\n",
              "    }\n",
              "    60% {\n",
              "      border-color: transparent;\n",
              "      border-right-color: var(--fill-color);\n",
              "    }\n",
              "    80% {\n",
              "      border-color: transparent;\n",
              "      border-right-color: var(--fill-color);\n",
              "      border-bottom-color: var(--fill-color);\n",
              "    }\n",
              "    90% {\n",
              "      border-color: transparent;\n",
              "      border-bottom-color: var(--fill-color);\n",
              "    }\n",
              "  }\n",
              "</style>\n",
              "\n",
              "  <script>\n",
              "    async function quickchart(key) {\n",
              "      const quickchartButtonEl =\n",
              "        document.querySelector('#' + key + ' button');\n",
              "      quickchartButtonEl.disabled = true;  // To prevent multiple clicks.\n",
              "      quickchartButtonEl.classList.add('colab-df-spinner');\n",
              "      try {\n",
              "        const charts = await google.colab.kernel.invokeFunction(\n",
              "            'suggestCharts', [key], {});\n",
              "      } catch (error) {\n",
              "        console.error('Error during call to suggestCharts:', error);\n",
              "      }\n",
              "      quickchartButtonEl.classList.remove('colab-df-spinner');\n",
              "      quickchartButtonEl.classList.add('colab-df-quickchart-complete');\n",
              "    }\n",
              "    (() => {\n",
              "      let quickchartButtonEl =\n",
              "        document.querySelector('#df-5f978e20-dd55-4a1d-b021-fefad9fe1eda button');\n",
              "      quickchartButtonEl.style.display =\n",
              "        google.colab.kernel.accessAllowed ? 'block' : 'none';\n",
              "    })();\n",
              "  </script>\n",
              "</div>\n",
              "    </div>\n",
              "  </div>\n"
            ],
            "application/vnd.google.colaboratory.intrinsic+json": {
              "type": "dataframe",
              "variable_name": "df",
              "summary": "{\n  \"name\": \"df\",\n  \"rows\": 5000,\n  \"fields\": [\n    {\n      \"column\": \"Avg. Area Income\",\n      \"properties\": {\n        \"dtype\": \"number\",\n        \"std\": 10657.991213888688,\n        \"min\": 17796.63119,\n        \"max\": 107701.7484,\n        \"num_unique_values\": 5000,\n        \"samples\": [\n          61907.59335,\n          57160.20224,\n          70190.79644\n        ],\n        \"semantic_type\": \"\",\n        \"description\": \"\"\n      }\n    },\n    {\n      \"column\": \"Avg. Area House Age\",\n      \"properties\": {\n        \"dtype\": \"number\",\n        \"std\": 0.9914561798324226,\n        \"min\": 2.644304186,\n        \"max\": 9.519088066,\n        \"num_unique_values\": 5000,\n        \"samples\": [\n          7.017837825,\n          6.893260095,\n          6.745053762\n        ],\n        \"semantic_type\": \"\",\n        \"description\": \"\"\n      }\n    },\n    {\n      \"column\": \"Avg. Area Number of Rooms\",\n      \"properties\": {\n        \"dtype\": \"number\",\n        \"std\": 1.0058332312754112,\n        \"min\": 3.236194023,\n        \"max\": 10.75958834,\n        \"num_unique_values\": 5000,\n        \"samples\": [\n          6.440255755,\n          6.921532165,\n          6.662566733\n        ],\n        \"semantic_type\": \"\",\n        \"description\": \"\"\n      }\n    },\n    {\n      \"column\": \"Avg. Area Number of Bedrooms\",\n      \"properties\": {\n        \"dtype\": \"number\",\n        \"std\": 1.2341372654846832,\n        \"min\": 2.0,\n        \"max\": 6.5,\n        \"num_unique_values\": 255,\n        \"samples\": [\n          3.5,\n          3.41,\n          3.33\n        ],\n        \"semantic_type\": \"\",\n        \"description\": \"\"\n      }\n    },\n    {\n      \"column\": \"Area Population\",\n      \"properties\": {\n        \"dtype\": \"number\",\n        \"std\": 9925.65011354602,\n        \"min\": 172.6106863,\n        \"max\": 69621.71338,\n        \"num_unique_values\": 5000,\n        \"samples\": [\n          43828.94721,\n          43467.14704,\n          29215.13611\n        ],\n        \"semantic_type\": \"\",\n        \"description\": \"\"\n      }\n    },\n    {\n      \"column\": \"Price\",\n      \"properties\": {\n        \"dtype\": \"number\",\n        \"std\": 353117.6265836956,\n        \"min\": 15938.65792,\n        \"max\": 2469065.594,\n        \"num_unique_values\": 5000,\n        \"samples\": [\n          1339096.077,\n          1251794.179,\n          1340094.966\n        ],\n        \"semantic_type\": \"\",\n        \"description\": \"\"\n      }\n    }\n  ]\n}"
            }
          },
          "metadata": {},
          "execution_count": 55
        }
      ],
      "source": [
        "data = pd.read_csv('housing.csv', sep=',', encoding='windows-1251')\n",
        "df = data.drop('Address', axis=1)\n",
        "df.head()"
      ],
      "id": "Uo3d5LD0PRWR"
    },
    {
      "cell_type": "code",
      "execution_count": null,
      "metadata": {
        "trusted": true,
        "colab": {
          "base_uri": "https://localhost:8080/"
        },
        "id": "wObmH1wuPRWR",
        "outputId": "677cb144-9838-41ee-80c7-05fefb58e159"
      },
      "outputs": [
        {
          "output_type": "stream",
          "name": "stdout",
          "text": [
            "(5000, 6)\n"
          ]
        }
      ],
      "source": [
        "print(df.shape)"
      ],
      "id": "wObmH1wuPRWR"
    },
    {
      "cell_type": "code",
      "source": [
        "import seaborn as sns\n",
        "import pandas as pd\n",
        "\n",
        "sns.set(style=\"ticks\")\n",
        "sns.boxplot(x=df['Area Population'])"
      ],
      "metadata": {
        "colab": {
          "base_uri": "https://localhost:8080/",
          "height": 476
        },
        "id": "iWH3Ix_-Tma4",
        "outputId": "5f60fc86-ecf4-474e-8641-4e43170349c1"
      },
      "id": "iWH3Ix_-Tma4",
      "execution_count": null,
      "outputs": [
        {
          "output_type": "execute_result",
          "data": {
            "text/plain": [
              "<Axes: xlabel='Area Population'>"
            ]
          },
          "metadata": {},
          "execution_count": 44
        },
        {
          "output_type": "display_data",
          "data": {
            "text/plain": [
              "<Figure size 640x480 with 1 Axes>"
            ],
            "image/png": "[encoded data removed]"
          },
          "metadata": {}
        }
      ]
    },
    {
      "cell_type": "markdown",
      "metadata": {
        "id": "VMg4E5BAPRWT"
      },
      "source": [
        "## Задача №1 (13)\n",
        "Для набора данных проведите нормализацию для одного (произвольного)\n",
        "числового признака с использованием функции \"обратная зависимость - 1 / X\".\n",
        "\n",
        "Проведём нормализацию для колонки \"mag\""
      ],
      "id": "VMg4E5BAPRWT"
    },
    {
      "cell_type": "code",
      "execution_count": null,
      "metadata": {
        "trusted": true,
        "id": "9756LSqIPRWT"
      },
      "outputs": [],
      "source": [
        "import matplotlib.pyplot as plt  # noqa\n",
        "import numpy as np  # noqa\n",
        "import pandas as pd  # noqa\n",
        "import scipy.stats as stats  # noqa"
      ],
      "id": "9756LSqIPRWT"
    },
    {
      "cell_type": "code",
      "execution_count": 57,
      "metadata": {
        "trusted": true,
        "id": "bbX7V2UFPRWT",
        "colab": {
          "base_uri": "https://localhost:8080/"
        },
        "outputId": "04b1c6ed-0786-4b6c-9681-2d864fc1a545"
      },
      "outputs": [
        {
          "output_type": "stream",
          "name": "stdout",
          "text": [
            "   Avg. Area Income  Avg. Area House Age  Avg. Area Number of Rooms  \\\n",
            "0       79545.45857             5.682861                   7.009188   \n",
            "1       79248.64245             6.002900                   6.730821   \n",
            "2       61287.06718             5.865890                   8.512727   \n",
            "3       63345.24005             7.188236                   5.586729   \n",
            "4       59982.19723             5.040555                   7.839388   \n",
            "\n",
            "   Avg. Area Number of Bedrooms  Area Population         Price  \\\n",
            "0                          4.09      23086.80050  1.059034e+06   \n",
            "1                          3.09      40173.07217  1.505891e+06   \n",
            "2                          5.13      36882.15940  1.058988e+06   \n",
            "3                          3.26      34310.24283  1.260617e+06   \n",
            "4                          4.23      26354.10947  6.309435e+05   \n",
            "\n",
            "                                             Address  \\\n",
            "0  208 Michael Ferry Apt. 674\\nLaurabury, NE 3701...   \n",
            "1  188 Johnson Views Suite 079\\nLake Kathleen, CA...   \n",
            "2  9127 Elizabeth Stravenue\\nDanieltown, WI 06482...   \n",
            "3                          USS Barnett\\nFPO AP 44820   \n",
            "4                         USNS Raymond\\nFPO AE 09386   \n",
            "\n",
            "   normalized_Area Population  \n",
            "0                    0.000043  \n",
            "1                    0.000025  \n",
            "2                    0.000027  \n",
            "3                    0.000029  \n",
            "4                    0.000038  \n"
          ]
        }
      ],
      "source": [
        "# Выбор произвольного числового признака для нормализации\n",
        "selected_feature = 'Area Population'  # Замените на имя вашего выбранного признака\n",
        "\n",
        "# Применение нормализации с использованием обратной зависимости\n",
        "normalized_feature = 1 / data[selected_feature]\n",
        "\n",
        "# Добавление нормализованного признака к DataFrame\n",
        "data['normalized_' + selected_feature] = normalized_feature\n",
        "\n",
        "# Вывод первых нескольких строк для проверки результата\n",
        "print(data.head())"
      ],
      "id": "bbX7V2UFPRWT"
    },
    {
      "cell_type": "code",
      "execution_count": 62,
      "metadata": {
        "trusted": true,
        "id": "kn7U3Qu0PRWU"
      },
      "outputs": [],
      "source": [
        "df[\"reciprocal\"] = 1 / (df[\"Area Population\"])"
      ],
      "id": "kn7U3Qu0PRWU"
    },
    {
      "cell_type": "code",
      "execution_count": 64,
      "metadata": {
        "trusted": true,
        "colab": {
          "base_uri": "https://localhost:8080/",
          "height": 593
        },
        "id": "7ogNsudbPRWU",
        "outputId": "baa35010-7c6b-4cd4-9f8d-b2f2e728ecc3"
      },
      "outputs": [
        {
          "output_type": "display_data",
          "data": {
            "text/plain": [
              "<Figure size 1500x600 with 2 Axes>"
            ],
            "image/png": "[encoded data removed]"
          },
          "metadata": {}
        }
      ],
      "source": [
        "diagnostic_plots(df, \"reciprocal\")"
      ],
      "id": "7ogNsudbPRWU"
    },
    {
      "cell_type": "markdown",
      "metadata": {
        "id": "2nqnjimqPRWU"
      },
      "source": [
        "### Вывод\n",
        "Как видно, нормализация такой функцией неудачна."
      ],
      "id": "2nqnjimqPRWU"
    },
    {
      "cell_type": "markdown",
      "metadata": {
        "id": "cfN0M1l_PRWU"
      },
      "source": [
        "## Задача №2 (33)\n",
        "Для набора данных проведите процедуру отбора признаков (feature selection).\n",
        "Используйте метод обертывания (wrapper method),\n",
        "алгоритм полного перебора (exhaustive feature selection)."
      ],
      "id": "cfN0M1l_PRWU"
    },
    {
      "cell_type": "code",
      "source": [
        "from mlxtend.feature_selection import ExhaustiveFeatureSelector\n",
        "from sklearn.model_selection import train_test_split  # Importing train_test_split\n",
        "from sklearn.linear_model import LinearRegression"
      ],
      "metadata": {
        "id": "8NbuF7sLSiYW"
      },
      "id": "8NbuF7sLSiYW",
      "execution_count": null,
      "outputs": []
    },
    {
      "cell_type": "code",
      "source": [
        "df = df.dropna()"
      ],
      "metadata": {
        "id": "r6Oh7WBcYEN1"
      },
      "id": "r6Oh7WBcYEN1",
      "execution_count": null,
      "outputs": []
    },
    {
      "cell_type": "code",
      "execution_count": 56,
      "metadata": {
        "trusted": true,
        "id": "0OKO5-yPPRWU",
        "colab": {
          "base_uri": "https://localhost:8080/"
        },
        "outputId": "f9e988ba-23a7-45d7-f65e-04df3e4bfdb2"
      },
      "outputs": [
        {
          "output_type": "stream",
          "name": "stderr",
          "text": [
            "Features: 31/31"
          ]
        },
        {
          "output_type": "stream",
          "name": "stdout",
          "text": [
            "Отобранные признаки: Index(['Avg. Area Income', 'Avg. Area House Age', 'Avg. Area Number of Rooms',\n",
            "       'Avg. Area Number of Bedrooms', 'Area Population'],\n",
            "      dtype='object')\n"
          ]
        }
      ],
      "source": [
        "import pandas as pd\n",
        "from mlxtend.feature_selection import ExhaustiveFeatureSelector\n",
        "from sklearn.linear_model import LinearRegression\n",
        "from sklearn.model_selection import train_test_split\n",
        "\n",
        "\n",
        "# Разделение на признаки и целевую переменную\n",
        "X = df.drop(columns=['Price'])  # Укажите имя целевой переменной\n",
        "y = df['Price']\n",
        "\n",
        "# Разделение на обучающий и тестовый наборы\n",
        "X_train, X_test, y_train, y_test = train_test_split(X, y, test_size=0.2, random_state=42)\n",
        "\n",
        "# Создание модели для отбора признаков\n",
        "lr = LinearRegression()\n",
        "\n",
        "# Создание объекта для отбора признаков с использованием алгоритма полного перебора\n",
        "efs = ExhaustiveFeatureSelector(estimator=lr, min_features=1, max_features=len(X.columns), scoring='r2', cv=5)\n",
        "\n",
        "# Запуск процесса отбора признаков\n",
        "efs = efs.fit(X_train, y_train)\n",
        "\n",
        "# Вывод результатов\n",
        "selected_features = X_train.columns[list(efs.best_idx_)]\n",
        "print(\"Отобранные признаки:\", selected_features)\n"
      ],
      "id": "0OKO5-yPPRWU"
    }
  ],
  "metadata": {
    "kernelspec": {
      "display_name": "Python 3 (ipykernel)",
      "language": "python",
      "name": "python3"
    },
    "language_info": {
      "codemirror_mode": {
        "name": "ipython",
        "version": 3
      },
      "file_extension": ".py",
      "mimetype": "text/x-python",
      "name": "python",
      "nbconvert_exporter": "python",
      "pygments_lexer": "ipython3",
      "version": "3.10.10"
    },
    "colab": {
      "provenance": []
    }
  },
  "nbformat": 4,
  "nbformat_minor": 5
}